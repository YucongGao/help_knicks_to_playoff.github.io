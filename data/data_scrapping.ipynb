{
 "cells": [
  {
   "cell_type": "code",
   "execution_count": 1,
   "id": "0051efd9",
   "metadata": {},
   "outputs": [],
   "source": [
    "import requests\n",
    "import pandas as pd"
   ]
  },
  {
   "cell_type": "code",
   "execution_count": 2,
   "id": "ce896da1",
   "metadata": {},
   "outputs": [],
   "source": [
    "# box scores by game - 2020-2021 season\n",
    "all_game_url = \"https://stats.nba.com/stats/teamgamelogs?DateFrom=&DateTo=&GameSegment=&LastNGames=0&LeagueID=00&Location=&MeasureType=Base&Month=0&OpponentTeamID=0&Outcome=&PORound=0&PaceAdjust=N&PerMode=Totals&Period=0&PlusMinus=N&Rank=N&Season=2020-21&SeasonSegment=&SeasonType=Regular+Season&ShotClockRange=&VsConference=&VsDivision=\"\n",
    "headers = {\n",
    "    'Connection':'keep-alive', \n",
    "    'Accept':'application/json, text/plain, */*', \n",
    "    'x-nba-stats-token': 'true', \n",
    "    'User-Agent': 'Mozilla/5.0 (Macintosh; Intel Mac OS X 10_15_7) AppleWebKit/537.36 (KHTML, like Gecko) Chrome/95.0.4638.69 Safari/537.36', \n",
    "    'x-nba-stats-origin': 'stats', \n",
    "    'Sec-Fetch-Site': 'same-origin', \n",
    "    'Sec-Fetch-Mode': 'cors', \n",
    "    'Referer': 'https://www.nba.com/', \n",
    "    'Accept-Encoding': 'gzip, deflate, br', \n",
    "    'Accept-Language': 'en-US,en;q=0.9', \n",
    "}\n",
    "\n",
    "response_1 = requests.get(url = all_game_url, headers = headers).json()\n",
    "data = response_1['resultSets'][0]['rowSet']\n",
    "col_names = response_1['resultSets'][0]['headers']\n",
    "last_season_df = pd.DataFrame(data, columns = col_names)"
   ]
  },
  {
   "cell_type": "code",
   "execution_count": 4,
   "id": "1420369a",
   "metadata": {},
   "outputs": [],
   "source": [
    "seasons = [\"2020-21\", \"2019-20\", \n",
    "           \"2018-19\", \"2017-18\", \n",
    "           \"2016-17\", \"2015-16\", \n",
    "           \"2014-15\", \"2013-14\", \n",
    "           \"2012-13\", \"2011-12\", \n",
    "           \"2010-11\", \"2009-10\", \n",
    "           \"2008-09\", \"2007-08\", \n",
    "           \"2006-07\", \"2005-06\", \n",
    "           \"2004-05\", \"2003-04\", \n",
    "           \"2002-03\", \"2001-02\", \"2000-01\"]\n",
    "\n",
    "for i in seasons:\n",
    "    url = \"https://stats.nba.com/stats/teamgamelogs?DateFrom=&DateTo=&GameSegment=&LastNGames=0&LeagueID=00&Location=&MeasureType=Base&Month=0&OpponentTeamID=0&Outcome=&PORound=0&PaceAdjust=N&PerMode=Totals&Period=0&PlusMinus=N&Rank=N&Season={season}&SeasonSegment=&SeasonType=Regular+Season&ShotClockRange=&VsConference=&VsDivision=\".format(season = i)\n",
    "    response_boxscores = requests.get(url = url, headers = headers).json()\n",
    "    data = response_boxscores['resultSets'][0]['rowSet']\n",
    "    col_names = response_boxscores['resultSets'][0]['headers']\n",
    "    boxscore_df = pd.DataFrame(data, columns = col_names)\n",
    "    boxscore_df.to_csv(\"box_score_advanced_{}.csv\".format(i), index = False)\n"
   ]
  },
  {
   "cell_type": "code",
   "execution_count": 10,
   "id": "5d7b1516",
   "metadata": {},
   "outputs": [],
   "source": [
    "# team shooting log data\n",
    "knicks_url = \"https://stats.nba.com/stats/shotchartdetail?AheadBehind=&CFID=155&CFPARAMS=2021-22&ClutchTime=&Conference=&ContextFilter=&ContextMeasure=FGA&DateFrom=&DateTo=&Division=&EndPeriod=10&EndRange=28800&GROUP_ID=&GameEventID=&GameID=&GameSegment=&GroupID=&GroupMode=&GroupQuantity=5&LastNGames=0&LeagueID=00&Location=&Month=0&OnOff=&OpponentTeamID=0&Outcome=&PORound=0&Period=0&PlayerID=0&PlayerID1=&PlayerID2=&PlayerID3=&PlayerID4=&PlayerID5=&PlayerPosition=&PointDiff=&Position=&RangeType=0&RookieYear=&Season=2021-22&SeasonSegment=&SeasonType=Regular+Season&ShotClockRange=&StartPeriod=1&StartRange=0&StarterBench=&TeamID=1610612752&VsConference=&VsDivision=&VsPlayerID1=&VsPlayerID2=&VsPlayerID3=&VsPlayerID4=&VsPlayerID5=&VsTeamID=\"\n",
    "headers = {\n",
    "    'Connection':'keep-alive', \n",
    "    'Accept':'application/json, text/plain, */*', \n",
    "    'x-nba-stats-token': 'true', \n",
    "    'User-Agent': 'Mozilla/5.0 (Macintosh; Intel Mac OS X 10_15_7) AppleWebKit/537.36 (KHTML, like Gecko) Chrome/95.0.4638.69 Safari/537.36', \n",
    "    'x-nba-stats-origin': 'stats', \n",
    "    'Sec-Fetch-Site': 'same-origin', \n",
    "    'Sec-Fetch-Mode': 'cors', \n",
    "    'Referer': 'https://www.nba.com/', \n",
    "    'Accept-Encoding': 'gzip, deflate, br', \n",
    "    'Accept-Language': 'en-US,en;q=0.9', \n",
    "}\n",
    "response = requests.get(url = knicks_url, headers = headers).json()\n",
    "knicks_info = response['resultSets'][0]\n",
    "row_sets = response['resultSets'][0]['rowSet']\n",
    "knicks_shot_log = pd.DataFrame(row_sets, columns = knicks_info['headers'])\n",
    "knicks_shot_log.to_csv(\"knicks_shot_log_21_22.csv\", index = False)"
   ]
  },
  {
   "cell_type": "code",
   "execution_count": 3,
   "id": "324a31fd",
   "metadata": {},
   "outputs": [],
   "source": [
    "# transition data - 00-20\n",
    "seasons = [\"2020-21\", \"2019-20\", \n",
    "           \"2018-19\", \"2017-18\", \n",
    "           \"2016-17\", \"2015-16\", \n",
    "           \"2014-15\", \"2013-14\", \n",
    "           \"2012-13\"]\n",
    "\n",
    "transition_dfs = []\n",
    "for i in seasons:\n",
    "    url = \"https://stats.nba.com/stats/synergyplaytypes?LeagueID=00&PerMode=PerGame&PlayType=Transition&PlayerOrTeam=T&SeasonType=Regular+Season&SeasonYear={season}&TypeGrouping=offensive\".format(season = i)\n",
    "    response_transition = requests.get(url = url, headers = headers).json()\n",
    "    data = response_transition['resultSets'][0]['rowSet']\n",
    "    col_names = response_transition['resultSets'][0]['headers']\n",
    "    transition_df = pd.DataFrame(data, columns = col_names)\n",
    "    transition_df['season_id'] = i\n",
    "    transition_dfs.append(transition_df)\n",
    "   \n",
    "final_trans_df = pd.concat(transition_dfs, sort = False)\n",
    "final_trans_df.to_csv(\"transition_12_21.csv\", index = False)"
   ]
  },
  {
   "cell_type": "code",
   "execution_count": 3,
   "id": "24147d99",
   "metadata": {},
   "outputs": [],
   "source": [
    "seasons = [\"2020-21\", \"2019-20\", \n",
    "           \"2018-19\", \"2017-18\", \n",
    "           \"2016-17\", \"2015-16\", \n",
    "           \"2014-15\", \"2013-14\", \n",
    "           \"2012-13\"]"
   ]
  },
  {
   "cell_type": "code",
   "execution_count": 4,
   "id": "83243ef9",
   "metadata": {},
   "outputs": [],
   "source": [
    "# difine a function to scrap data from nba website\n",
    "def get_nba_data(seasons, base_url):\n",
    "    headers = {\n",
    "        'Connection':'keep-alive', \n",
    "        'Accept':'application/json, text/plain, */*', \n",
    "        'x-nba-stats-token': 'true', \n",
    "        'User-Agent': 'Mozilla/5.0 (Macintosh; Intel Mac OS X 10_15_7) AppleWebKit/537.36 (KHTML, like Gecko) Chrome/95.0.4638.69 Safari/537.36', \n",
    "        'x-nba-stats-origin': 'stats', \n",
    "        'Sec-Fetch-Site': 'same-origin', \n",
    "        'Sec-Fetch-Mode': 'cors', \n",
    "        'Referer': 'https://www.nba.com/', \n",
    "        'Accept-Encoding': 'gzip, deflate, br', \n",
    "        'Accept-Language': 'en-US,en;q=0.9', \n",
    "    }\n",
    "    dfs = []\n",
    "    for i in seasons:\n",
    "        url = base_url.format(season = i)\n",
    "        response = requests.get(url = url, headers = headers).json()\n",
    "        data = response['resultSets'][0]['rowSet']\n",
    "        col_names = response['resultSets'][0]['headers']\n",
    "        df = pd.DataFrame(data, columns = col_names)\n",
    "        dfs.append(df)\n",
    "    final_df = pd.concat(dfs, sort = False)\n",
    "    return final_df\n",
    "        "
   ]
  },
  {
   "cell_type": "code",
   "execution_count": 11,
   "id": "cf63619c",
   "metadata": {},
   "outputs": [],
   "source": [
    "#isolation data - 12-21\n",
    "base = \"https://stats.nba.com/stats/synergyplaytypes?LeagueID=00&PerMode=PerGame&PlayType=Isolation&PlayerOrTeam=T&SeasonType=Regular+Season&SeasonYear={season}&TypeGrouping=offensive\"\n",
    "isolation_df = get_nba_data(seasons, base)\n",
    "isolation_df.to_csv(\"isolation_12_21.csv\", index = False)"
   ]
  },
  {
   "cell_type": "code",
   "execution_count": 12,
   "id": "7f05341e",
   "metadata": {},
   "outputs": [],
   "source": [
    "# pick and roll ball handler data - 12 - 21\n",
    "base = \"https://stats.nba.com/stats/synergyplaytypes?LeagueID=00&PerMode=PerGame&PlayType=PRBallHandler&PlayerOrTeam=T&SeasonType=Regular+Season&SeasonYear={season}&TypeGrouping=offensive\"\n",
    "prbh_df = get_nba_data(seasons, base)\n",
    "prbh_df.to_csv(\"prbh_12_21.csv\", index = False)"
   ]
  },
  {
   "cell_type": "code",
   "execution_count": 15,
   "id": "2b5ec68a",
   "metadata": {},
   "outputs": [],
   "source": [
    "# pick and roll roll man - 12-21\n",
    "base = \"https://stats.nba.com/stats/synergyplaytypes?LeagueID=00&PerMode=PerGame&PlayType=PRRollman&PlayerOrTeam=T&SeasonType=Regular+Season&SeasonYear={season}&TypeGrouping=offensive\"\n",
    "prrm_df = get_nba_data(seasons, base)\n",
    "prrm_df.to_csv(\"prrm_12_21.csv\", index = False)"
   ]
  },
  {
   "cell_type": "code",
   "execution_count": 16,
   "id": "43406a9e",
   "metadata": {},
   "outputs": [],
   "source": [
    "# hand off data - 12-21\n",
    "base = \"https://stats.nba.com/stats/synergyplaytypes?LeagueID=00&PerMode=PerGame&PlayType=Handoff&PlayerOrTeam=T&SeasonType=Regular+Season&SeasonYear={season}&TypeGrouping=offensive\"\n",
    "handoff_df = get_nba_data(seasons, base)\n",
    "handoff_df.to_csv(\"handoff_12_21.csv\", index = False)"
   ]
  },
  {
   "cell_type": "code",
   "execution_count": 17,
   "id": "0ce6c4df",
   "metadata": {},
   "outputs": [],
   "source": [
    "# cut data - 12-21\n",
    "base = \"https://stats.nba.com/stats/synergyplaytypes?LeagueID=00&PerMode=PerGame&PlayType=Cut&PlayerOrTeam=T&SeasonType=Regular+Season&SeasonYear={season}&TypeGrouping=offensive\"\n",
    "cut_df = get_nba_data(seasons, base)\n",
    "cut_df.to_csv(\"cut_12_21.csv\", index = False)"
   ]
  },
  {
   "cell_type": "code",
   "execution_count": 5,
   "id": "0c5c7f31",
   "metadata": {},
   "outputs": [],
   "source": [
    "# tracking - drives data - 12 -21, note: no season variable in this dataset\n",
    "base = \"https://stats.nba.com/stats/leaguedashptstats?College=&Conference=&Country=&DateFrom=&DateTo=&Division=&DraftPick=&DraftYear=&GameScope=&GameSegment=&Height=&LastNGames=0&LeagueID=00&Location=&Month=0&OpponentTeamID=0&Outcome=&PORound=0&PerMode=PerGame&Period=0&PlayerExperience=&PlayerOrTeam=Team&PlayerPosition=&PtMeasureType=Drives&Season={season}&SeasonSegment=&SeasonType=Regular+Season&StarterBench=&TeamID=0&VsConference=&VsDivision=&Weight=\"\n",
    "drives_df = get_nba_data(seasons, base)\n",
    "drives_df.to_csv(\"drives_12_21.csv\", index = False)"
   ]
  },
  {
   "cell_type": "code",
   "execution_count": 7,
   "id": "97df37d6",
   "metadata": {},
   "outputs": [],
   "source": [
    "# tracking - defensive impact - 12 - 21, note: no season variable in this dataset\n",
    "base = \"https://stats.nba.com/stats/leaguedashptstats?College=&Conference=&Country=&DateFrom=&DateTo=&Division=&DraftPick=&DraftYear=&GameScope=&GameSegment=&Height=&LastNGames=0&LeagueID=00&Location=&Month=0&OpponentTeamID=0&Outcome=&PORound=0&PerMode=PerGame&Period=0&PlayerExperience=&PlayerOrTeam=Team&PlayerPosition=&PtMeasureType=Defense&Season={season}&SeasonSegment=&SeasonType=Regular+Season&StarterBench=&TeamID=0&VsConference=&VsDivision=&Weight=\"\n",
    "defen_ipct = get_nba_data(seasons, base)\n",
    "defen_ipct.to_csv(\"defensive_impact_12_21.csv\", index = False)"
   ]
  },
  {
   "cell_type": "code",
   "execution_count": 8,
   "id": "e5a5975f",
   "metadata": {},
   "outputs": [],
   "source": [
    "# tracking - catch and shoot - 12-21, note: no season variable in this dataset\n",
    "base = \"https://stats.nba.com/stats/leaguedashptstats?College=&Conference=&Country=&DateFrom=&DateTo=&Division=&DraftPick=&DraftYear=&GameScope=&GameSegment=&Height=&LastNGames=0&LeagueID=00&Location=&Month=0&OpponentTeamID=0&Outcome=&PORound=0&PerMode=PerGame&Period=0&PlayerExperience=&PlayerOrTeam=Team&PlayerPosition=&PtMeasureType=CatchShoot&Season={season}&SeasonSegment=&SeasonType=Regular+Season&StarterBench=&TeamID=0&VsConference=&VsDivision=&Weight=\"\n",
    "catch_and_shoot_df = get_nba_data(seasons, base)\n",
    "catch_and_shoot_df.to_csv(\"catch_and_shoot_12_21.csv\", index = False)"
   ]
  },
  {
   "cell_type": "code",
   "execution_count": 12,
   "id": "9025b358",
   "metadata": {},
   "outputs": [],
   "source": [
    "# tracking - passing data - 12-21, note: no season variable in this dataset\n",
    "base = \"https://stats.nba.com/stats/leaguedashptstats?College=&Conference=&Country=&DateFrom=&DateTo=&Division=&DraftPick=&DraftYear=&GameScope=&GameSegment=&Height=&LastNGames=0&LeagueID=00&Location=&Month=0&OpponentTeamID=0&Outcome=&PORound=0&PerMode=PerGame&Period=0&PlayerExperience=&PlayerOrTeam=Team&PlayerPosition=&PtMeasureType=Passing&Season={season}&SeasonSegment=&SeasonType=Regular+Season&StarterBench=&TeamID=0&VsConference=&VsDivision=&Weight=\"\n",
    "passing_df = get_nba_data(seasons, base)\n",
    "passing_df.to_csv(\"passing_12_21.csv\", index = False)"
   ]
  },
  {
   "cell_type": "code",
   "execution_count": 13,
   "id": "150d6850",
   "metadata": {},
   "outputs": [],
   "source": [
    "# tracking - touches data - 12-21, note: no season variable in this dataset\n",
    "base = \"https://stats.nba.com/stats/leaguedashptstats?College=&Conference=&Country=&DateFrom=&DateTo=&Division=&DraftPick=&DraftYear=&GameScope=&GameSegment=&Height=&LastNGames=0&LeagueID=00&Location=&Month=0&OpponentTeamID=0&Outcome=&PORound=0&PerMode=PerGame&Period=0&PlayerExperience=&PlayerOrTeam=Team&PlayerPosition=&PtMeasureType=Possessions&Season={season}&SeasonSegment=&SeasonType=Regular+Season&StarterBench=&TeamID=0&VsConference=&VsDivision=&Weight=\"\n",
    "touches_df = get_nba_data(seasons, base)\n",
    "touches_df.to_csv(\"touches_12_21.csv\", index = False)"
   ]
  },
  {
   "cell_type": "code",
   "execution_count": 14,
   "id": "62ba3a32",
   "metadata": {},
   "outputs": [],
   "source": [
    "# tracking - pull-up shooting - 12-21, note: no season variable in this dataset\n",
    "base = \"https://stats.nba.com/stats/leaguedashptstats?College=&Conference=&Country=&DateFrom=&DateTo=&Division=&DraftPick=&DraftYear=&GameScope=&GameSegment=&Height=&LastNGames=0&LeagueID=00&Location=&Month=0&OpponentTeamID=0&Outcome=&PORound=0&PerMode=PerGame&Period=0&PlayerExperience=&PlayerOrTeam=Team&PlayerPosition=&PtMeasureType=PullUpShot&Season={season}&SeasonSegment=&SeasonType=Regular+Season&StarterBench=&TeamID=0&VsConference=&VsDivision=&Weight=\"\n",
    "pullup_shooting_df = get_nba_data(seasons, base)\n",
    "pullup_shooting_df.to_csv(\"pullup_shooting_12_21.csv\", index = False)"
   ]
  }
 ],
 "metadata": {
  "kernelspec": {
   "display_name": "Python 3",
   "language": "python",
   "name": "python3"
  },
  "language_info": {
   "codemirror_mode": {
    "name": "ipython",
    "version": 3
   },
   "file_extension": ".py",
   "mimetype": "text/x-python",
   "name": "python",
   "nbconvert_exporter": "python",
   "pygments_lexer": "ipython3",
   "version": "3.8.8"
  }
 },
 "nbformat": 4,
 "nbformat_minor": 5
}
